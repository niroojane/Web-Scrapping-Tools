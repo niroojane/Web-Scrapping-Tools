{
 "cells": [
  {
   "cell_type": "code",
   "execution_count": 16,
   "id": "0fcaa43e-a22c-4d44-9d85-a73773d9da35",
   "metadata": {},
   "outputs": [],
   "source": [
    "import pandas as pd\n",
    "import random\n",
    "import numpy as np\n",
    "import yfinance as yf\n",
    "import matplotlib.pyplot as plt\n",
    "from bs4 import BeautifulSoup\n",
    "from urllib.request import urlopen\n",
    "import seaborn as sns\n",
    "import scipy.optimize as sco"
   ]
  },
  {
   "cell_type": "code",
   "execution_count": 17,
   "id": "64bf5f66-1ece-4cf9-959d-7719c70f9b49",
   "metadata": {},
   "outputs": [],
   "source": [
    "url=urlopen(\"https://en.wikipedia.org/wiki/List_of_S%26P_500_companies\")\n",
    "soup = BeautifulSoup(url.read(), 'lxml')\n",
    "tbody = soup.tbody\n",
    "tr = tbody.find_all('tr')"
   ]
  },
  {
   "cell_type": "code",
   "execution_count": 18,
   "id": "de839f54-1430-45c7-9fba-963c0dd0c36f",
   "metadata": {},
   "outputs": [],
   "source": [
    "data = []\n",
    "for t in tr:\n",
    "    data.append(t.text.split('\\n'))\n",
    "\n",
    "raw_df = pd.DataFrame(data)\n",
    "raw_df.columns = raw_df.iloc[0,:]\n",
    "raw_df = raw_df.iloc[1:,:]\n",
    "listed_companies=raw_df['Symbol'].tolist()"
   ]
  },
  {
   "cell_type": "code",
   "execution_count": 19,
   "id": "d076de7c-1395-4d54-ae07-b79df0d29698",
   "metadata": {},
   "outputs": [
    {
     "name": "stdout",
     "output_type": "stream",
     "text": [
      "Got error from yahoo api for ticker BRK.B, Error: {'code': 'Not Found', 'description': 'No data found, symbol may be delisted'}\n",
      "- BRK.B: No timezone found, symbol may be delisted\n",
      "BF.B: No data found for this date range, symbol may be delisted\n"
     ]
    }
   ],
   "source": [
    "data=pd.DataFrame()\n",
    "for ticker in listed_companies:\n",
    "    \n",
    "    try:\n",
    "        \n",
    "        yahoo_data=yf.Ticker(ticker)\n",
    "        stock_price=yahoo_data.history(start='2022-03-20',end='2023-03-07',interval='1d').reset_index()\n",
    "        stock_price['Date']=stock_price['Date'].dt.tz_localize(None)\n",
    "        stock_price=stock_price.set_index('Date')\n",
    "        stock_price[ticker]=stock_price['Close']+stock_price['Dividends'].shift(periods=-1)\n",
    "        data=pd.concat([data,stock_price[ticker]],axis=1)\n",
    "        \n",
    "    except Exception as e:\n",
    "        pass\n",
    "    "
   ]
  },
  {
   "cell_type": "code",
   "execution_count": null,
   "id": "e3b0b1e6-9d88-42dd-b4d8-59d0cd393296",
   "metadata": {},
   "outputs": [],
   "source": [
    "esg_data=pd.DataFrame()\n",
    "\n",
    "for ticker in listed_companies:\n",
    "    ticker_name = yf.Ticker(ticker)\n",
    "    try:\n",
    "        if ticker_name.sustainability is not None: #if no response from Yahoo received, it will pass to next ticker\n",
    "            ticker_df = ticker_name.sustainability.T #response dataframe\n",
    "            ticker_df['symbol'] = ticker #adding new column 'symbol' in response df\n",
    "            esg_data=pd.concat([esg_data,ticker_df],ignore_index=True)\n",
    "    except (IndexError, ValueError) as e: #in case yfinance API misbehaves\n",
    "        print(f'{ticker} did not run') #FYI\n",
    "        pass"
   ]
  },
  {
   "cell_type": "code",
   "execution_count": null,
   "id": "b37c8a82-f14c-4cea-ac3d-56c3d59bb785",
   "metadata": {},
   "outputs": [],
   "source": [
    "new_esg_data=esg_data[['symbol','peerGroup','totalEsg']]\n",
    "new_esg_data.columns=['Stock','Sector','ESG score']\n",
    "new_esg_data.to_excel(r'C:\\Users\\niroo\\Desktop\\Jupyter\\Projets\\ESG.xlsx', index=False)"
   ]
  },
  {
   "cell_type": "code",
   "execution_count": 21,
   "id": "9ac78629-a59b-44f6-b017-01cc9b658ffc",
   "metadata": {},
   "outputs": [],
   "source": [
    "data.to_excel(r'C:\\Users\\niroo\\Desktop\\Jupyter\\Projets\\S&P5002.xlsx')"
   ]
  }
 ],
 "metadata": {
  "kernelspec": {
   "display_name": "Python 3 (ipykernel)",
   "language": "python",
   "name": "python3"
  },
  "language_info": {
   "codemirror_mode": {
    "name": "ipython",
    "version": 3
   },
   "file_extension": ".py",
   "mimetype": "text/x-python",
   "name": "python",
   "nbconvert_exporter": "python",
   "pygments_lexer": "ipython3",
   "version": "3.9.12"
  }
 },
 "nbformat": 4,
 "nbformat_minor": 5
}
