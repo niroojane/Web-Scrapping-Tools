{
 "cells": [
  {
   "cell_type": "code",
   "execution_count": 12,
   "id": "eba57bea-49d3-450f-a65a-400dc640a2e0",
   "metadata": {},
   "outputs": [],
   "source": [
    "import json \n",
    "import pandas as pd\n",
    "import requests\n",
    "import numpy as np"
   ]
  },
  {
   "cell_type": "code",
   "execution_count": 13,
   "id": "cdb4c7e0-6607-4220-9b4e-01fa0a056dae",
   "metadata": {},
   "outputs": [],
   "source": [
    "def get_link(page):\n",
    "    \n",
    "    final_link = None\n",
    "    word=None\n",
    "    start = 0\n",
    "    \n",
    "    for line in page.text.split(\"\\n\"):\n",
    "        if 'http://www.worldgovernmentbonds.com/wp-admin/admin-ajax' in line:\n",
    "            word=line    \n",
    "\n",
    "    \n",
    "    for i, letter in enumerate(word):\n",
    "        if letter == \"'\":\n",
    "            start = i\n",
    "            for j in range(start + 1, len(word)):\n",
    "                if word[j] == \"'\":\n",
    "                    final_link = word[start+1:j]\n",
    "                    break\n",
    "            break\n",
    "            \n",
    "    return final_link"
   ]
  },
  {
   "cell_type": "code",
   "execution_count": 14,
   "id": "fca1e20c-7565-4cb8-8b5b-261201d5f272",
   "metadata": {},
   "outputs": [],
   "source": [
    "def create_dataframe(link):\n",
    "    \n",
    "    page=requests.get(link)\n",
    "    data=page.json()\n",
    "    values=list(data['quote'].values())\n",
    "    dataframe=pd.DataFrame(np.array(values),columns=['Date','Close'])\n",
    "    dataframe['Date']=pd.to_datetime(dataframe['Date'],unit='ms')\n",
    "    dataframe=dataframe.set_index('Date')\n",
    "    \n",
    "    return dataframe"
   ]
  },
  {
   "cell_type": "code",
   "execution_count": 15,
   "id": "28f90568-27f7-48cb-8c73-ce97273664f5",
   "metadata": {},
   "outputs": [],
   "source": [
    "def get_dataframe(link):\n",
    "    \n",
    "    page=requests.get(link)\n",
    "    json_link=get_link(page)\n",
    "    \n",
    "    return create_dataframe(json_link)\n",
    "    "
   ]
  },
  {
   "cell_type": "code",
   "execution_count": 16,
   "id": "fbaf7ca9-bb3d-41bf-9287-760738e64ba1",
   "metadata": {},
   "outputs": [],
   "source": [
    "link='http://www.worldgovernmentbonds.com/cds-historical-data/united-kingdom/5-years/'"
   ]
  },
  {
   "cell_type": "code",
   "execution_count": 17,
   "id": "79a090ea-5739-4fbe-92cd-512e60a39884",
   "metadata": {},
   "outputs": [
    {
     "data": {
      "text/plain": [
       "<AxesSubplot:xlabel='Date'>"
      ]
     },
     "execution_count": 17,
     "metadata": {},
     "output_type": "execute_result"
    },
    {
     "data": {
      "image/png": "[encoded data removed]",
      "text/plain": [
       "<Figure size 432x288 with 1 Axes>"
      ]
     },
     "metadata": {
      "needs_background": "light"
     },
     "output_type": "display_data"
    }
   ],
   "source": [
    "get_dataframe(link).plot()"
   ]
  },
  {
   "cell_type": "code",
   "execution_count": null,
   "id": "de42a748-0a48-49dc-8091-6286db53db05",
   "metadata": {},
   "outputs": [],
   "source": []
  }
 ],
 "metadata": {
  "kernelspec": {
   "display_name": "Python 3 (ipykernel)",
   "language": "python",
   "name": "python3"
  },
  "language_info": {
   "codemirror_mode": {
    "name": "ipython",
    "version": 3
   },
   "file_extension": ".py",
   "mimetype": "text/x-python",
   "name": "python",
   "nbconvert_exporter": "python",
   "pygments_lexer": "ipython3",
   "version": "3.9.12"
  }
 },
 "nbformat": 4,
 "nbformat_minor": 5
}
